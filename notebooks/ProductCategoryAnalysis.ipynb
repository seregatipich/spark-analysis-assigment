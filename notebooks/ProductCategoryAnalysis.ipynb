{
 "cells": [
  {
   "cell_type": "code",
   "execution_count": 1,
   "metadata": {},
   "outputs": [
    {
     "name": "stderr",
     "output_type": "stream",
     "text": [
      "24/07/23 15:40:50 WARN Utils: Your hostname, Sergejs-MacBook-Air.local resolves to a loopback address: 127.0.0.1; using 192.168.1.132 instead (on interface en0)\n",
      "24/07/23 15:40:50 WARN Utils: Set SPARK_LOCAL_IP if you need to bind to another address\n",
      "Setting default log level to \"WARN\".\n",
      "To adjust logging level use sc.setLogLevel(newLevel). For SparkR, use setLogLevel(newLevel).\n",
      "24/07/23 15:40:51 WARN NativeCodeLoader: Unable to load native-hadoop library for your platform... using builtin-java classes where applicable\n",
      "                                                                                \r"
     ]
    },
    {
     "name": "stdout",
     "output_type": "stream",
     "text": [
      "Products DataFrame:\n",
      "+----------+------------+\n",
      "|product_id|product_name|\n",
      "+----------+------------+\n",
      "|         1|    ProductA|\n",
      "|         2|    ProductB|\n",
      "|         3|    ProductC|\n",
      "|         4|    ProductD|\n",
      "+----------+------------+\n",
      "\n",
      "Categories DataFrame:\n",
      "+-----------+-------------+\n",
      "|category_id|category_name|\n",
      "+-----------+-------------+\n",
      "|         10|    Category1|\n",
      "|         11|    Category2|\n",
      "|         12|    Category3|\n",
      "+-----------+-------------+\n",
      "\n",
      "Product-Category DataFrame:\n",
      "+----------+-----------+\n",
      "|product_id|category_id|\n",
      "+----------+-----------+\n",
      "|         1|         10|\n",
      "|         1|         11|\n",
      "|         2|         10|\n",
      "|         3|         12|\n",
      "+----------+-----------+\n",
      "\n",
      "Product-Category Pairs:\n",
      "+------------+-------------+\n",
      "|product_name|category_name|\n",
      "+------------+-------------+\n",
      "|    ProductA|    Category2|\n",
      "|    ProductA|    Category1|\n",
      "|    ProductB|    Category1|\n",
      "|    ProductC|    Category3|\n",
      "|    ProductD|         NULL|\n",
      "+------------+-------------+\n",
      "\n",
      "Products without Categories:\n",
      "+------------+\n",
      "|product_name|\n",
      "+------------+\n",
      "|    ProductD|\n",
      "+------------+\n",
      "\n"
     ]
    }
   ],
   "source": [
    "# Ячейка 1: Импортируем необходимые модули\n",
    "from pyspark.sql import SparkSession\n",
    "from pyspark.sql.functions import col\n",
    "\n",
    "# Ячейка 2: Создаем SparkSession\n",
    "spark = SparkSession.builder \\\n",
    "    .appName(\"ProductCategoryAnalysis\") \\\n",
    "    .getOrCreate()\n",
    "\n",
    "# Ячейка 3: Загружаем данные\n",
    "products_df = spark.read.csv(\"../data/products.csv\", header=True, inferSchema=True)\n",
    "categories_df = spark.read.csv(\"../data/categories.csv\", header=True, inferSchema=True)\n",
    "product_category_df = spark.read.csv(\"../data/product_category.csv\", header=True, inferSchema=True)\n",
    "\n",
    "# Ячейка 4: Отображаем загруженные данные\n",
    "print(\"Products DataFrame:\")\n",
    "products_df.show()\n",
    "\n",
    "print(\"Categories DataFrame:\")\n",
    "categories_df.show()\n",
    "\n",
    "print(\"Product-Category DataFrame:\")\n",
    "product_category_df.show()\n",
    "\n",
    "# Ячейка 5: Присоединяем категории к продуктам\n",
    "product_category_full_df = product_category_df.join(categories_df, on=\"category_id\", how=\"left\") \\\n",
    "    .join(products_df, on=\"product_id\", how=\"right\")\n",
    "\n",
    "# Ячейка 6: Найти все пары «Имя продукта – Имя категории»\n",
    "product_category_pairs_df = product_category_full_df.select(\"product_name\", \"category_name\")\n",
    "print(\"Product-Category Pairs:\")\n",
    "product_category_pairs_df.show()\n",
    "\n",
    "# Ячейка 7: Найти продукты, у которых нет категорий\n",
    "products_without_categories_df = product_category_full_df.filter(col(\"category_id\").isNull()).select(\"product_name\").distinct()\n",
    "print(\"Products without Categories:\")\n",
    "products_without_categories_df.show()\n",
    "\n",
    "# Ячейка 8: Завершаем работу SparkSession\n",
    "spark.stop()"
   ]
  }
 ],
 "metadata": {
  "kernelspec": {
   "display_name": "venv",
   "language": "python",
   "name": "python3"
  },
  "language_info": {
   "codemirror_mode": {
    "name": "ipython",
    "version": 3
   },
   "file_extension": ".py",
   "mimetype": "text/x-python",
   "name": "python",
   "nbconvert_exporter": "python",
   "pygments_lexer": "ipython3",
   "version": "3.10.8"
  }
 },
 "nbformat": 4,
 "nbformat_minor": 2
}
